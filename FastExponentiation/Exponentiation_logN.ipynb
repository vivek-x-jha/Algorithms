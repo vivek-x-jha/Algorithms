{
 "cells": [
  {
   "cell_type": "markdown",
   "metadata": {},
   "source": [
    "# Speeding up Exponentiation Algorithm"
   ]
  },
  {
   "cell_type": "markdown",
   "metadata": {},
   "source": [
    "## Problem Setup"
   ]
  },
  {
   "cell_type": "markdown",
   "metadata": {},
   "source": [
    "Given some scalar, matrix, etc. $a$ and $n \\in\\mathbb{Z}  $ that is non-negative,\n",
    "\\begin{align}\n",
    "a^{n} = b \\\\\n",
    "\\underbrace{a*a*\\ldots*a}_{n\\text{-times}} = b\n",
    "\\end{align}"
   ]
  },
  {
   "cell_type": "markdown",
   "metadata": {},
   "source": [
    "Clearly, we can see that the Brute force solution will have $O(n)$ time complexity. With an eye to divide and conquer, we can break down the problem as such:"
   ]
  },
  {
   "cell_type": "markdown",
   "metadata": {},
   "source": [
    "\\begin{align}\n",
    "\\underbrace{(a*a*\\ldots*a)}_{n/2\\text{-times}} * \n",
    "\\underbrace{(a*a*\\ldots*a)}_{n/2\\text{-times}} = b\n",
    "\\end{align}"
   ]
  },
  {
   "cell_type": "markdown",
   "metadata": {},
   "source": [
    "Note, that if n is odd and larger than 1, we can simply multiply by an additional element:"
   ]
  },
  {
   "cell_type": "markdown",
   "metadata": {},
   "source": [
    "\\begin{align}\n",
    "\\underbrace{(a*a*\\ldots*a)}_{n/2\\text{-times}} * a *\n",
    "\\underbrace{(a*a*\\ldots*a)}_{n/2\\text{-times}} = b\n",
    "\\end{align}"
   ]
  },
  {
   "cell_type": "markdown",
   "metadata": {},
   "source": [
    "But why stop there? We can continue to break the problem down until we get to a base case, where $a^{1}=a$"
   ]
  },
  {
   "cell_type": "markdown",
   "metadata": {},
   "source": [
    "[Insert a tree diagram that visually shows why process becomes log N]"
   ]
  },
  {
   "cell_type": "code",
   "execution_count": 30,
   "metadata": {},
   "outputs": [],
   "source": [
    "def power(a, n, mod=10 ** 9 + 7):\n",
    "    \"\"\"Performs exponentiation in O(log n) time and accounts for overflow\"\"\"\n",
    "    if n == 1:\n",
    "        return a\n",
    "    elif n % 2 == 0:\n",
    "        return (power(a, n / 2) ** 2) % mod\n",
    "    else:\n",
    "        return ((power(a,(n-1)/2) ** 2) * a) % mod"
   ]
  },
  {
   "cell_type": "code",
   "execution_count": 33,
   "metadata": {},
   "outputs": [
    {
     "name": "stdout",
     "output_type": "stream",
     "text": [
      "10000\n"
     ]
    }
   ],
   "source": [
    "print(powmod(10, 4))"
   ]
  }
 ],
 "metadata": {
  "kernelspec": {
   "display_name": "Python 3",
   "language": "python",
   "name": "python3"
  },
  "language_info": {
   "codemirror_mode": {
    "name": "ipython",
    "version": 3
   },
   "file_extension": ".py",
   "mimetype": "text/x-python",
   "name": "python",
   "nbconvert_exporter": "python",
   "pygments_lexer": "ipython3",
   "version": "3.6.3"
  }
 },
 "nbformat": 4,
 "nbformat_minor": 2
}
